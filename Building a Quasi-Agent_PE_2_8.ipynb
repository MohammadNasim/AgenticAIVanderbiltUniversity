{
  "nbformat": 4,
  "nbformat_minor": 0,
  "metadata": {
    "colab": {
      "provenance": [],
      "include_colab_link": true
    },
    "kernelspec": {
      "name": "python3",
      "display_name": "Python 3"
    },
    "language_info": {
      "name": "python"
    }
  },
  "cells": [
    {
      "cell_type": "markdown",
      "metadata": {
        "id": "view-in-github",
        "colab_type": "text"
      },
      "source": [
        "<a href=\"https://colab.research.google.com/github/MohammadNasim/AgenticAIVanderbiltUniversity/blob/main/Building%20a%20Quasi-Agent_PE_2_8.ipynb\" target=\"_parent\"><img src=\"https://colab.research.google.com/assets/colab-badge.svg\" alt=\"Open In Colab\"/></a>"
      ]
    },
    {
      "cell_type": "code",
      "source": [
        "!!pip install litellm\n",
        "\n",
        "# Important!!!\n",
        "#\n",
        "# <---- Set your 'OPENAI_API_KEY' as a secret over there with the \"key\" icon\n",
        "#\n",
        "#\n",
        "import os\n",
        "from google.colab import userdata\n",
        "api_key = userdata.get('OPENAI_API_KEY')\n",
        "os.environ['OPENAI_API_KEY'] = api_key"
      ],
      "metadata": {
        "id": "KEYrzG2vB8Ip"
      },
      "execution_count": 1,
      "outputs": []
    },
    {
      "cell_type": "code",
      "execution_count": 6,
      "metadata": {
        "colab": {
          "base_uri": "https://localhost:8080/"
        },
        "id": "Mwe2eeOQB0cC",
        "outputId": "99a68be8-4982-4258-fe27-ed8ff7c2696b"
      },
      "outputs": [
        {
          "output_type": "stream",
          "name": "stdout",
          "text": [
            "```python\n",
            "def factorial(n):\n",
            "    \"\"\"\n",
            "    Calculate the factorial of a non-negative integer n.\n",
            "\n",
            "    The function uses recursion to compute the factorial of the input number `n`.\n",
            "    Factorial of a number n (denoted as n!) is the product of all positive \n",
            "    integers less than or equal to n. The factorial of 0 is defined as 1.\n",
            "\n",
            "    Parameters:\n",
            "    n (int): A non-negative integer whose factorial is to be calculated. Must be 0 or greater.\n",
            "\n",
            "    Returns:\n",
            "    int: The factorial of the input number `n`.\n",
            "\n",
            "    Example usage:\n",
            "    >>> factorial(5)\n",
            "    120\n",
            "\n",
            "    >>> factorial(0)\n",
            "    1\n",
            "\n",
            "    >>> factorial(1)\n",
            "    1\n",
            "\n",
            "    Edge cases:\n",
            "    - If `n` is 0, the function returns 1. This handles the mathematical convention that 0! = 1.\n",
            "    - If `n` is 1, the function correctly returns 1 since 1! = 1.\n",
            "    - The function does not handle negative integers or non-integer inputs, as factorials are\n",
            "      defined only for non-negative integers. Passing such values will cause the function \n",
            "      to either return incorrect results or raise a recursion error due to the base case not being met.\n",
            "    \"\"\"\n",
            "\n",
            "    if n == 0 or n == 1:\n",
            "        return 1\n",
            "    else:\n",
            "        return n * factorial(n-1)\n",
            "```\n"
          ]
        }
      ],
      "source": [
        "from litellm import completion\n",
        "from typing import List, Dict\n",
        "\n",
        "\n",
        "def generate_response(messages: List[Dict]) -> str:\n",
        "    \"\"\"Call LLM to get response\"\"\"\n",
        "    response = completion(\n",
        "        model=\"openai/gpt-4o\",\n",
        "        messages=messages,\n",
        "        max_tokens=1024\n",
        "    )\n",
        "    return response.choices[0].message.content\n",
        "\n",
        "# Step 2: Code from previous LLM output\n",
        "generated_code = \"\"\"\n",
        "def factorial(n):\n",
        "    if n == 0 or n == 1:\n",
        "        return 1\n",
        "    else:\n",
        "        return n * factorial(n-1)\n",
        "\"\"\".strip()  # Replace this with code from the earlier step\n",
        "\n",
        "# Step 3: Prompt LLM to add documentation\n",
        "prompt = f\"\"\"Add comprehensive documentation to the following Python function. Include:\n",
        "- Function description\n",
        "- Parameter descriptions\n",
        "- Return value description\n",
        "- Example usage\n",
        "- Edge cases\n",
        "\n",
        "Here is the function:\n",
        "      - Function description\n",
        "      - Parameter descriptions\n",
        "      - Return value description\n",
        "      - Example usage\n",
        "      - Edge cases\n",
        "\n",
        "      Here is the function:\n",
        "\n",
        "      ```python\n",
        "      {generated_code}\n",
        "      ```\"\"\"\n",
        "\n",
        "      # Step 4: Call LLM\n",
        "\n",
        "messages=[{\"role\": \"user\", \"content\": prompt}]\n",
        "\n",
        "\n",
        "# Step 5: Display documented response\n",
        "response = generate_response(messages)\n",
        "print(response)"
      ]
    }
  ]
}