{
  "nbformat": 4,
  "nbformat_minor": 0,
  "metadata": {
    "colab": {
      "provenance": [],
      "include_colab_link": true
    },
    "kernelspec": {
      "name": "python3",
      "display_name": "Python 3"
    },
    "language_info": {
      "name": "python"
    }
  },
  "cells": [
    {
      "cell_type": "markdown",
      "metadata": {
        "id": "view-in-github",
        "colab_type": "text"
      },
      "source": [
        "<a href=\"https://colab.research.google.com/github/MohammadNasim/AgenticAIVanderbiltUniversity/blob/main/IncludingPreviousResponses6.ipynb\" target=\"_parent\"><img src=\"https://colab.research.google.com/assets/colab-badge.svg\" alt=\"Open In Colab\"/></a>"
      ]
    },
    {
      "cell_type": "code",
      "source": [
        "!!pip install litellm\n",
        "\n",
        "# Important!!!\n",
        "#\n",
        "# <---- Set your 'OPENAI_API_KEY' as a secret over there with the \"key\" icon\n",
        "#\n",
        "#\n",
        "import os\n",
        "from google.colab import userdata\n",
        "api_key = userdata.get('OPENAI_API_KEY')\n",
        "os.environ['OPENAI_API_KEY'] = api_key"
      ],
      "metadata": {
        "id": "KEYrzG2vB8Ip"
      },
      "execution_count": 1,
      "outputs": []
    },
    {
      "cell_type": "code",
      "execution_count": 4,
      "metadata": {
        "colab": {
          "base_uri": "https://localhost:8080/"
        },
        "id": "Mwe2eeOQB0cC",
        "outputId": "ed1fe21e-01fc-41de-aae2-38155ad5bd03"
      },
      "outputs": [
        {
          "output_type": "stream",
          "name": "stdout",
          "text": [
            "In functional programming, it's common to focus on using pure functions and avoiding mutable state. One approach to swapping the keys and values in a dictionary is to create a new dictionary by transforming the existing one. Here's how you can achieve this in Python using a functional programming style:\n",
            "\n",
            "```python\n",
            "def swap_keys_values(d):\n",
            "    return {value: key for key, value in d.items()}\n",
            "\n",
            "# Example usage:\n",
            "original_dict = {'a': 1, 'b': 2, 'c': 3}\n",
            "swapped_dict = swap_keys_values(original_dict)\n",
            "print(swapped_dict)\n",
            "```\n",
            "\n",
            "This function `swap_keys_values` uses a dictionary comprehension, which is both concise and functional in nature. Here's a breakdown of how it works:\n",
            "\n",
            "- `d.items()` provides an iterable of the key-value pairs in the original dictionary.\n",
            "- The comprehension iterates over each pair, swapping the key and value positions: `{value: key for key, value in d.items()}`.\n",
            "- The result is a new dictionary with values and keys swapped.\n",
            "\n",
            "Keep in mind that this approach assumes that all values in the original dictionary are unique and hashable, which is required for them to be keys in the new dictionary. If there are duplicate values in the original dictionary, the resulting dictionary will only contain one of those keys (the last one encountered in the iteration).\n",
            "Adding documentation to a function is an excellent practice that improves code readability and maintainability. In Python, a common way to document a function is by including a docstring. Here is the updated `swap_keys_values` function with a docstring:\n",
            "\n",
            "```python\n",
            "def swap_keys_values(d):\n",
            "    \"\"\"\n",
            "    Swap the keys and values of a dictionary.\n",
            "\n",
            "    This function takes a dictionary and returns a new dictionary where the keys \n",
            "    and values are swapped. It assumes that all values in the original dictionary \n",
            "    are unique and hashable, which is necessary for them to be used as keys in the \n",
            "    resultant dictionary.\n",
            "\n",
            "    Parameters:\n",
            "    d (dict): The dictionary whose keys and values need to be swapped.\n",
            "\n",
            "    Returns:\n",
            "    dict: A new dictionary with keys and values swapped from the original dictionary.\n",
            "\n",
            "    Example:\n",
            "    >>> original_dict = {'a': 1, 'b': 2, 'c': 3}\n",
            "    >>> swapped_dict = swap_keys_values(original_dict)\n",
            "    >>> print(swapped_dict)\n",
            "    {1: 'a', 2: 'b', 3: 'c'}\n",
            "\n",
            "    Note:\n",
            "    If there are duplicate values in the original dictionary, only one of the keys \n",
            "    (the last one encountered) will be present in the resultant dictionary.\n",
            "    \"\"\"\n",
            "    return {value: key for key, value in d.items()}\n",
            "\n",
            "# Example usage:\n",
            "original_dict = {'a': 1, 'b': 2, 'c': 3}\n",
            "swapped_dict = swap_keys_values(original_dict)\n",
            "print(swapped_dict)\n",
            "```\n",
            "\n",
            "In this updated version, the docstring:\n",
            "\n",
            "- Describes what the function does.\n",
            "- Specifies the parameter and its expected type.\n",
            "- Describes the return value and its type.\n",
            "- Provides an example demonstrating how the function is used.\n",
            "- Notes a caveat about the potential issue with duplicate values. \n",
            "\n",
            "This documentation ensures that anyone using or maintaining the function can understand its purpose and how to work with it easily.\n"
          ]
        }
      ],
      "source": [
        "from litellm import completion\n",
        "from typing import List, Dict\n",
        "\n",
        "\n",
        "def generate_response(messages: List[Dict]) -> str:\n",
        "    \"\"\"Call LLM to get response\"\"\"\n",
        "    response = completion(\n",
        "        model=\"openai/gpt-4o\",\n",
        "        messages=messages,\n",
        "        max_tokens=1024\n",
        "    )\n",
        "    return response.choices[0].message.content\n",
        "\n",
        "\n",
        "messages = [\n",
        "   {\"role\": \"system\", \"content\": \"You are an expert software engineer that prefers functional programming.\"},\n",
        "   {\"role\": \"user\", \"content\": \"Write a function to swap the keys and values in a dictionary.\"}\n",
        "]\n",
        "\n",
        "response = generate_response(messages)\n",
        "print(response)\n",
        "\n",
        "# We are going to make this verbose so it is clear what\n",
        "# is going on. In a real application, you would likely\n",
        "# just append to the messages list.\n",
        "messages = [\n",
        "   {\"role\": \"system\", \"content\": \"You are an expert software engineer that prefers functional programming.\"},\n",
        "   {\"role\": \"user\", \"content\": \"Write a function to swap the keys and values in a dictionary.\"},\n",
        "\n",
        "   # Here is the assistant's response from the previous step\n",
        "   # with the code. This gives it \"memory\" of the previous\n",
        "   # interaction.\n",
        "   {\"role\": \"assistant\", \"content\": response},\n",
        "\n",
        "   # Now, we can ask the assistant to update the function\n",
        "   {\"role\": \"user\", \"content\": \"Update the function to include documentation.\"}\n",
        "]\n",
        "\n",
        "response = generate_response(messages)\n",
        "print(response)"
      ]
    }
  ]
}